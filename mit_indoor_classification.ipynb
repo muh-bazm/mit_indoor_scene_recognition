{
  "nbformat": 4,
  "nbformat_minor": 0,
  "metadata": {
    "colab": {
      "provenance": [],
      "collapsed_sections": [],
      "authorship_tag": "ABX9TyPxTQIDl1RKEdxwPN7W538S",
      "include_colab_link": true
    },
    "kernelspec": {
      "name": "python3",
      "display_name": "Python 3"
    },
    "language_info": {
      "name": "python"
    }
  },
  "cells": [
    {
      "cell_type": "markdown",
      "metadata": {
        "id": "view-in-github",
        "colab_type": "text"
      },
      "source": [
        "<a href=\"https://colab.research.google.com/github/muh-bazm/mit_indoor_classification/blob/main/mit_indoor_classification.ipynb\" target=\"_parent\"><img src=\"https://colab.research.google.com/assets/colab-badge.svg\" alt=\"Open In Colab\"/></a>"
      ]
    },
    {
      "cell_type": "code",
      "execution_count": 1,
      "metadata": {
        "colab": {
          "base_uri": "https://localhost:8080/"
        },
        "id": "eJiWuvL_HjVD",
        "outputId": "528bea33-39e7-4768-bd60-202a594f7247"
      },
      "outputs": [
        {
          "output_type": "stream",
          "name": "stdout",
          "text": [
            "--2022-09-04 12:20:08--  http://groups.csail.mit.edu/vision/LabelMe/NewImages/indoorCVPR_09.tar\n",
            "Resolving groups.csail.mit.edu (groups.csail.mit.edu)... 128.30.2.44\n",
            "Connecting to groups.csail.mit.edu (groups.csail.mit.edu)|128.30.2.44|:80... connected.\n",
            "HTTP request sent, awaiting response... 200 OK\n",
            "Length: 2592010240 (2.4G) [application/x-tar]\n",
            "Saving to: ‘indoorCVPR_09.tar’\n",
            "\n",
            "indoorCVPR_09.tar   100%[===================>]   2.41G  17.6MB/s    in 2m 26s  \n",
            "\n",
            "2022-09-04 12:22:35 (16.9 MB/s) - ‘indoorCVPR_09.tar’ saved [2592010240/2592010240]\n",
            "\n"
          ]
        }
      ],
      "source": [
        "! wget \"groups.csail.mit.edu/vision/LabelMe/NewImages/indoorCVPR_09.tar\""
      ]
    },
    {
      "cell_type": "code",
      "source": [],
      "metadata": {
        "id": "IaQSiW3acYlz"
      },
      "execution_count": null,
      "outputs": []
    }
  ]
}