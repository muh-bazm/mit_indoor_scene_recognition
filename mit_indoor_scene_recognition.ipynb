{
  "nbformat": 4,
  "nbformat_minor": 0,
  "metadata": {
    "colab": {
      "provenance": [],
      "collapsed_sections": [],
      "authorship_tag": "ABX9TyNaA1/AGFRD5bb8g9ZXjXET",
      "include_colab_link": true
    },
    "kernelspec": {
      "name": "python3",
      "display_name": "Python 3"
    },
    "language_info": {
      "name": "python"
    }
  },
  "cells": [
    {
      "cell_type": "markdown",
      "metadata": {
        "id": "view-in-github",
        "colab_type": "text"
      },
      "source": [
        "<a href=\"https://colab.research.google.com/github/muh-bazm/mit_indoor_scene_recognition/blob/main/mit_indoor_scene_recognition.ipynb\" target=\"_parent\"><img src=\"https://colab.research.google.com/assets/colab-badge.svg\" alt=\"Open In Colab\"/></a>"
      ]
    },
    {
      "cell_type": "code",
      "execution_count": null,
      "metadata": {
        "id": "eJiWuvL_HjVD"
      },
      "outputs": [],
      "source": [
        "from google.colab import drive"
      ]
    },
    {
      "cell_type": "code",
      "source": [
        "# Mount the google drive at the specified directory\n",
        "drive.mount('/content/drive')"
      ],
      "metadata": {
        "colab": {
          "base_uri": "https://localhost:8080/"
        },
        "id": "2uF5tB_1iskT",
        "outputId": "5bc74636-13a1-4f1a-b0ea-10232756ad50"
      },
      "execution_count": null,
      "outputs": [
        {
          "output_type": "stream",
          "name": "stdout",
          "text": [
            "Mounted at /content/drive\n"
          ]
        }
      ]
    },
    {
      "cell_type": "code",
      "source": [
        "! ls drive/MyDrive/"
      ],
      "metadata": {
        "colab": {
          "base_uri": "https://localhost:8080/"
        },
        "id": "bL3fB5Cti8KY",
        "outputId": "c025baa6-5264-419e-8aeb-10c601496826"
      },
      "execution_count": null,
      "outputs": [
        {
          "output_type": "stream",
          "name": "stdout",
          "text": [
            " 1642664884471.jpg\n",
            " 1642687236444.jpg\n",
            " 1642687299367.jpg\n",
            " 1642687930765.jpg\n",
            " 1643378303754.jpg\n",
            " AA-Final.gsheet\n",
            " Apply.gsheet\n",
            " Awareness.gdoc\n",
            " BERT.ipynb\n",
            "'Bias - Varias Tradeoff.gslides'\n",
            " candidates.csv\n",
            "'Churn Data'\n",
            " churn_data_2.csv\n",
            " churn_data.csv\n",
            "'Cloud and distributed learning.gslides'\n",
            "'Colab Notebooks'\n",
            "'Conditioned GANs.gslides'\n",
            "'Consulting Contract Muhammad Bazm .pdf'\n",
            "'CSS Universities.gsheet'\n",
            " Daily.gdoc\n",
            " djia\n",
            " Expenditure.gsheet\n",
            "'Fieldstreammedia - Plot Matching.gsheet'\n",
            " frame_2.csv\n",
            " frame_3.zip\n",
            "'Harness UR Problems.gdoc'\n",
            " IMG-20200825-WA0001.jpg\n",
            " IMG-20201122-WA0013.jpg\n",
            " IMG-20201123-WA0006.jpg\n",
            " IMG-20201125-WA0003.jpg\n",
            " IMG-20201125-WA0004.jpg\n",
            " IMG-20201125-WA0009.jpg\n",
            " IMG-20201125-WA0010.jpg\n",
            " IMG-20201125-WA0011.jpg\n",
            " IMG-20201125-WA0012.jpg\n",
            " IMG-20201125-WA0013.jpg\n",
            " IMG-20201125-WA0014.jpg\n",
            " IMG-20201126-WA0000.jpg\n",
            " IMG-20201208-WA0013.jpg\n",
            " IMG-20201223-WA0006.jpg\n",
            "'Marketplace Ideas.gsheet'\n",
            "'ML Skills.gsheet'\n",
            " MuhammadBazmCV-F.pdf\n",
            " ngrok-ssh\n",
            "'Notes - Mar 1.gdoc'\n",
            "'Personal Timing.gsheet'\n",
            "'PIF061-03-جدول طرح ها و حق بیمه های بیمه نامه درمان تکمیلی خانواده (3) (00000003) (2).pdf'\n",
            "'Positions I applied.gsheet'\n",
            " products_202105171246.csv\n",
            " PTT-20201028-WA0000.opus\n",
            " PTT-20201028-WA0001.opus\n",
            " PTT-20201122-WA0006.opus\n",
            " PTT-20201122-WA0009.opus\n",
            " PTT-20201122-WA0010.opus\n",
            " PTT-20201122-WA0011.opus\n",
            " PTT-20201122-WA0012.opus\n",
            " PTT-20201122-WA0014.opus\n",
            " PTT-20201122-WA0015.opus\n",
            " PTT-20201123-WA0005.opus\n",
            " PTT-20201123-WA0007.opus\n",
            " PTT-20201123-WA0008.opus\n",
            " PTT-20201208-WA0014.opus\n",
            " PTT-20201208-WA0016.opus\n",
            " PTT-20201208-WA0017.opus\n",
            " PTT-20201221-WA0006.opus\n",
            " PTT-20201223-WA0005.opus\n",
            " PTT-20201229-WA0000.opus\n",
            " PTT-20201229-WA0002.opus\n",
            " PTT-20210104-WA0009.opus\n",
            " PTT-20210104-WA0010.opus\n",
            " PTT-20210104-WA0011.opus\n",
            " PTT-20210127-WA0000.opus\n",
            " PTT-20210127-WA0001.opus\n",
            " query_result.csv\n",
            " recommendation.zip\n",
            "'Social Tribe -Team K: Seasonal OKR.gsheet'\n",
            " Tag2Product.gdoc\n",
            "'Tartu 3.ipynb'\n",
            " TartuTask\n",
            " Untitled.ipynb\n",
            " UR.gslides\n",
            " URManager.tar.xz\n",
            "'usefull links.gdoc'\n",
            "'US universities.gsheet'\n",
            "'WhatsApp Chat with گل افشان.txt'\n",
            "'Your big idea.gslides'\n",
            "'توضیح در مورد UR.gdoc'\n",
            " یکتانت.gdoc\n",
            "'محمد بزم.pdf'\n",
            "'مدارک آلمان.gdoc'\n",
            "'منابع مربوط به ریزش مشتری.gsheet'\n",
            "'هزینه‌های آلمان.gdoc'\n",
            "'ویژگی‌های کاربران.gsheet'\n"
          ]
        }
      ]
    },
    {
      "cell_type": "code",
      "source": [
        "! wget \"groups.csail.mit.edu/vision/LabelMe/NewImages/indoorCVPR_09.tar\""
      ],
      "metadata": {
        "id": "VYuTa3UxiZTY"
      },
      "execution_count": null,
      "outputs": []
    },
    {
      "cell_type": "code",
      "source": [
        "! tar -xf indoor"
      ],
      "metadata": {
        "colab": {
          "base_uri": "https://localhost:8080/"
        },
        "id": "IaQSiW3acYlz",
        "outputId": "315885a6-d19f-4b29-d68c-41e2367687ea"
      },
      "execution_count": null,
      "outputs": [
        {
          "output_type": "stream",
          "name": "stdout",
          "text": [
            "indoorCVPR_09.tar  sample_data\n"
          ]
        }
      ]
    },
    {
      "cell_type": "code",
      "source": [],
      "metadata": {
        "id": "4HqpMTXVhxGW"
      },
      "execution_count": null,
      "outputs": []
    }
  ]
}